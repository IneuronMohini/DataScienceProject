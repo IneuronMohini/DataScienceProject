{
 "cells": [
  {
   "cell_type": "code",
   "execution_count": 8,
   "metadata": {},
   "outputs": [
    {
     "name": "stdout",
     "output_type": "stream",
     "text": [
      "['2030, 2065, 2100, 2135, 2170, 2205, 2240, 2275, 2310, 2345, 2380, 2415, 2450, 2485, 2520, 2555, 2590, 2625, 2660, 2695, 2730, 2765, 2800, 2835, 2870, 2905, 2940, 2975, 3010, 3045, 3080, 3115, 3150, 3185']\n"
     ]
    }
   ],
   "source": [
    "arr =[] \n",
    "for i in range(2000, 3200):\n",
    "    if (i%7 == 0) and (i%5 == 0):\n",
    "        arr.append(str(i))\n",
    "print([ ','   \" \" .join(arr) ])\n",
    "    \n",
    "    "
   ]
  },
  {
   "cell_type": "code",
   "execution_count": 3,
   "metadata": {},
   "outputs": [
    {
     "name": "stdout",
     "output_type": "stream",
     "text": [
      "Enter First Name Of User :mohini\n",
      "Enater Last Name Of User : gupta\n",
      "first name of user is inihom\n",
      "first name of user is atpug\n"
     ]
    }
   ],
   "source": [
    "fname = str(input(\"Enter First Name Of User :\"))\n",
    "lname = str(input(\"Enater Last Name Of User : \"))\n",
    "\n",
    "print(\"first name of user is\" , fname[::-1])\n",
    "print(\"first name of user is\" , lname[::-1])"
   ]
  },
  {
   "cell_type": "markdown",
   "metadata": {},
   "source": [
    "#3 : Program to find volume of sphere"
   ]
  },
  {
   "cell_type": "code",
   "execution_count": 4,
   "metadata": {},
   "outputs": [
    {
     "name": "stdout",
     "output_type": "stream",
     "text": [
      "904.3199999999998\n"
     ]
    }
   ],
   "source": [
    "diameter =12\n",
    "radius = diameter/2\n",
    "volume = 4/3*3.14*radius*radius*radius\n",
    "print(volume)"
   ]
  },
  {
   "cell_type": "code",
   "execution_count": null,
   "metadata": {},
   "outputs": [],
   "source": []
  }
 ],
 "metadata": {
  "kernelspec": {
   "display_name": "Python 3",
   "language": "python",
   "name": "python3"
  },
  "language_info": {
   "codemirror_mode": {
    "name": "ipython",
    "version": 3
   },
   "file_extension": ".py",
   "mimetype": "text/x-python",
   "name": "python",
   "nbconvert_exporter": "python",
   "pygments_lexer": "ipython3",
   "version": "3.8.3"
  }
 },
 "nbformat": 4,
 "nbformat_minor": 4
}
