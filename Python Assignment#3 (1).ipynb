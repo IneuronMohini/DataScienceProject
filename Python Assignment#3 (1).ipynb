{
 "cells": [
  {
   "cell_type": "raw",
   "metadata": {},
   "source": [
    "# Create your own myfilter() function same like filter() function "
   ]
  },
  {
   "cell_type": "code",
   "execution_count": null,
   "metadata": {},
   "outputs": [],
   "source": [
    "#This function will return all the even numbers between given range.\n",
    "#Start and end number will be user input.\n",
    "n =[]\n",
    "def myfilter(start_num, end_num):\n",
    "    num_list = list(range(start_num,end_num+1))    \n",
    "    for i in num_list:\n",
    "        if i%2 == 0:\n",
    "            n.append(i)            \n",
    "    print(n)\n",
    "            \n",
    "start_num = int(input(\"Enter the start number : \" ))\n",
    "end_num = int(input(\"Enter last number : \"))\n",
    "myfilter(start_num,end_num)\n",
    "\n"
   ]
  },
  {
   "cell_type": "code",
   "execution_count": 42,
   "metadata": {},
   "outputs": [
    {
     "name": "stdout",
     "output_type": "stream",
     "text": [
      "Enter the start number : 10\n",
      "Enter last number : 20\n",
      "[10, 12, 14, 16, 18, 20]\n"
     ]
    }
   ],
   "source": [
    "start_num = int(input(\"Enter the start number : \" ))\n",
    "end_num = int(input(\"Enter last number : \"))\n",
    "num_list = list(range(start_num,end_num+1))\n",
    "even = list(filter(lambda x: (x % 2 == 0), num_list)) \n",
    "print(even)\n"
   ]
  },
  {
   "cell_type": "markdown",
   "metadata": {},
   "source": [
    "#Write your own function myreduce() to same like reduce() function in python"
   ]
  },
  {
   "cell_type": "code",
   "execution_count": 57,
   "metadata": {},
   "outputs": [
    {
     "name": "stdout",
     "output_type": "stream",
     "text": [
      "Enter the start number : 30\n",
      "Enter last number : 40\n",
      "List of numbers :  [30, 31, 32, 33, 34, 35, 36, 37, 38, 39, 40]\n",
      "Sum of elements are 385\n"
     ]
    }
   ],
   "source": [
    "#Sum of First n Natural numbers , Ask user for Number.\n",
    "\n",
    "def myfilter(start_num, end_num):    \n",
    "    num_list = list(range(start_num,end_num+1))\n",
    "    print(\"List of numbers : \",num_list)\n",
    "    sum_of_numbers =0\n",
    "    for i in num_list:\n",
    "        sum_of_numbers +=i                    \n",
    "    return sum_of_numbers\n",
    "            \n",
    "start_num = int(input(\"Enter the start number : \" ))\n",
    "end_num = int(input(\"Enter last number : \"))\n",
    "print(\"Sum of elements are\" ,myfilter(start_num,end_num))\n"
   ]
  },
  {
   "cell_type": "markdown",
   "metadata": {},
   "source": [
    "#same thing can be achieve by in-built Reduce() function"
   ]
  },
  {
   "cell_type": "code",
   "execution_count": 37,
   "metadata": {},
   "outputs": [
    {
     "name": "stdout",
     "output_type": "stream",
     "text": [
      "Enter the start number : 40\n",
      "Enter last number : 50\n",
      "495\n"
     ]
    }
   ],
   "source": [
    "# Import reduce function \n",
    "from functools import reduce\n",
    "\n",
    "start_num = int(input(\"Enter the start number : \" ))\n",
    "end_num = int(input(\"Enter last number : \"))\n",
    "num_list = list(range(start_num,end_num+1))\n",
    "even = reduce(lambda a,b: a+b ,num_list)\n",
    "print(even)\n"
   ]
  },
  {
   "cell_type": "markdown",
   "metadata": {},
   "source": [
    "2. Implement List comprehensions to produce the following lists.\n",
    "Write List comprehensions to produce the following Lists\n",
    "['A', 'C', 'A', 'D', 'G', 'I', ’L’, ‘ D’]\n",
    "['x', 'xx', 'xxx', 'xxxx', 'y', 'yy', 'yyy', 'yyyy', 'z', 'zz', 'zzz', 'zzzz']\n",
    "['x', 'y', 'z', 'xx', 'yy', 'zz', 'xxx', 'yyy', 'zzz', 'xxxx', 'yyyy', 'zzzz']\n",
    "[[2], [3], [4], [3], [4], [5], [4], [5], [6]] [[2, 3, 4, 5], [3, 4, 5, 6],\n",
    "[4, 5, 6, 7], [5, 6, 7, 8]]\n",
    "[(1, 1), (2, 1), (3, 1), (1, 2), (2, 2), (3, 2), (1, 3), (2, 3), (3, 3)]"
   ]
  },
  {
   "cell_type": "code",
   "execution_count": 58,
   "metadata": {},
   "outputs": [
    {
     "name": "stdout",
     "output_type": "stream",
     "text": [
      "Output:\n",
      "['A', 'C', 'A', 'D', 'G', 'I', 'L', 'D']\n",
      "['x', 'xx', 'xxx', 'xxxx', 'y', 'yy', 'yyy', 'yyyy', 'z', 'zz', 'zzz', 'zzzz']\n",
      "['x', 'y', 'z', 'xx', 'yy', 'zz', 'xxx', 'yyy', 'zzz', 'xxxx', 'yyyy', 'zzzz']\n",
      "[[2], [3], [4], [3], [4], [5], [4], [5], [6]]\n",
      "[[2, 3, 4, 5], [3, 4, 5, 6], [4, 5, 6, 7], [5, 6, 7, 8]]\n",
      "[(1, 1), (2, 1), (3, 1), (1, 2), (2, 2), (3, 2), (1, 3), (2, 3), (3, 3)]\n"
     ]
    }
   ],
   "source": [
    "#Solution\n",
    "\n",
    "#Section 1\n",
    "word=\"AcadGild\"\n",
    "#list Comprehension\n",
    "output_list=[w.upper() for w in list(word)]\n",
    "print(\"Output:\")\n",
    "print(output_list)\n",
    "\n",
    "#Section 2\n",
    "word_1=list('xyz')\n",
    "word_2=[x*n for x in word_1 for n in range(1,5) ]\n",
    "print(word_2)\n",
    "\n",
    "#Section 3\n",
    "word_3=[x*n for n in range(1,5) for x in word_1 ]\n",
    "print(word_3)\n",
    "\n",
    "#Section 4\n",
    "number=[2,3,4]\n",
    "number_1=[[x+n] for x in number for n in range(0,3)]\n",
    "print(number_1)\n",
    "\n",
    "#Section 5\n",
    "number_2=[2,3,4,5]\n",
    "number_3=[[x+n for n in range(0,4)] for x in number_2 ]\n",
    "print(number_3)\n",
    "\n",
    "#Section 6\n",
    "number_4=[1,2,3]\n",
    "number_5= [(b,a) for a in number_4 for b in number_4]\n",
    "print(number_5)"
   ]
  },
  {
   "cell_type": "code",
   "execution_count": null,
   "metadata": {},
   "outputs": [],
   "source": []
  },
  {
   "cell_type": "code",
   "execution_count": null,
   "metadata": {},
   "outputs": [],
   "source": []
  },
  {
   "cell_type": "code",
   "execution_count": null,
   "metadata": {},
   "outputs": [],
   "source": []
  },
  {
   "cell_type": "code",
   "execution_count": null,
   "metadata": {},
   "outputs": [],
   "source": []
  }
 ],
 "metadata": {
  "kernelspec": {
   "display_name": "Python 3",
   "language": "python",
   "name": "python3"
  },
  "language_info": {
   "codemirror_mode": {
    "name": "ipython",
    "version": 3
   },
   "file_extension": ".py",
   "mimetype": "text/x-python",
   "name": "python",
   "nbconvert_exporter": "python",
   "pygments_lexer": "ipython3",
   "version": "3.8.3"
  }
 },
 "nbformat": 4,
 "nbformat_minor": 4
}
